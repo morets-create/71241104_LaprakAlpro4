{
  "nbformat": 4,
  "nbformat_minor": 0,
  "metadata": {
    "colab": {
      "provenance": []
    },
    "kernelspec": {
      "name": "python3",
      "display_name": "Python 3"
    },
    "language_info": {
      "name": "python"
    }
  },
  "cells": [
    {
      "cell_type": "code",
      "execution_count": 1,
      "metadata": {
        "colab": {
          "base_uri": "https://localhost:8080/"
        },
        "id": "63fOA9wMK60S",
        "outputId": "faed32c3-c315-4866-b365-713272123caa"
      },
      "outputs": [
        {
          "output_type": "stream",
          "name": "stdout",
          "text": [
            "Masukkan bulan (1-12): 13\n",
            "Bulan yang diinputkan tidak valid.\n"
          ]
        }
      ],
      "source": [
        "\n",
        "try:\n",
        "    bulan = int(input(\"Masukkan bulan (1-12): \"))\n",
        "\n",
        "    hari_per_bulan = {\n",
        "        1: 31, 2: 29, 3: 31, 4: 30, 5: 31, 6: 30,\n",
        "        7: 31, 8: 31, 9: 30, 10: 31, 11: 30, 12: 31\n",
        "    }\n",
        "\n",
        "    if 1 <= bulan <= 12:\n",
        "        print(f\"Jumlah hari: {hari_per_bulan[bulan]}\")\n",
        "    else:\n",
        "        print(\"Bulan yang diinputkan tidak valid.\")\n",
        "\n",
        "except ValueError:\n",
        "    print(\"Input harus berupa angka.\")\n"
      ]
    }
  ]
}