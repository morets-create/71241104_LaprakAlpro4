{
  "nbformat": 4,
  "nbformat_minor": 0,
  "metadata": {
    "colab": {
      "provenance": []
    },
    "kernelspec": {
      "name": "python3",
      "display_name": "Python 3"
    },
    "language_info": {
      "name": "python"
    }
  },
  "cells": [
    {
      "cell_type": "code",
      "source": [
        "try:\n",
        "    pembelian = float(input(\"Masukkan jumlah pembelian: \"))\n",
        "    if pembelian >= 100000:\n",
        "        print(\"Anda mendapatkan diskon 30%!\")\n",
        "    else:\n",
        "        print(\"Maaf, pembelian belum memenuhi syarat diskon.\")\n",
        "except ValueError:\n",
        "    print(\"Input harus berupa angka!\")"
      ],
      "metadata": {
        "id": "JTKcC8wxGwxT"
      },
      "execution_count": null,
      "outputs": []
    },
    {
      "cell_type": "code",
      "source": [
        "try:\n",
        "    usia = int(input(\"Masukkan usia anda: \"))\n",
        "    if usia <= 5:\n",
        "        print(\"Balita\")\n",
        "    elif usia >= 6 and usia <= 11:\n",
        "        print(\"Kanak-kanak\")\n",
        "    elif usia >= 12 and usia <= 25:\n",
        "        print(\"Remaja\")\n",
        "    elif usia >= 26 and usia <= 45:\n",
        "        print(\"Dewasa\")\n",
        "    elif usia > 45:\n",
        "        print(\"Lansia\")\n",
        "    else:\n",
        "        print(\"Usia tidak valid.\")\n",
        "except ValueError:\n",
        "    print(\"Input harus berupa angka!\")"
      ],
      "metadata": {
        "id": "RVRJUXfMG3Dp"
      },
      "execution_count": null,
      "outputs": []
    },
    {
      "cell_type": "code",
      "source": [
        "try:\n",
        "    pembelian = float(input(\"Masukkan jumlah pembelian: \"))\n",
        "    if pembelian > 1000000:\n",
        "        diskon = 0.3\n",
        "    elif pembelian > 500000:\n",
        "        diskon = 0.2\n",
        "    elif pembelian >= 100000:\n",
        "        diskon = 0.15\n",
        "    else:\n",
        "        diskon = 0\n",
        "    print(f\"Anda mendapatkan diskon sebesar {diskon*100}%\")\n",
        "except ValueError:\n",
        "    print(\"Input harus berupa angka!\")"
      ],
      "metadata": {
        "id": "XxXbs7a-G-ux"
      },
      "execution_count": null,
      "outputs": []
    }
  ]
}