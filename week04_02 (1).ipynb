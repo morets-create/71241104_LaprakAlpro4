{
  "nbformat": 4,
  "nbformat_minor": 0,
  "metadata": {
    "colab": {
      "provenance": []
    },
    "kernelspec": {
      "name": "python3",
      "display_name": "Python 3"
    },
    "language_info": {
      "name": "python"
    }
  },
  "cells": [
    {
      "cell_type": "code",
      "execution_count": 8,
      "metadata": {
        "colab": {
          "base_uri": "https://localhost:8080/"
        },
        "id": "QuPGXNN8-6yI",
        "outputId": "d7e3dc6e-616e-4a1d-b03b-12107897f551"
      },
      "outputs": [
        {
          "output_type": "stream",
          "name": "stdout",
          "text": [
            "masukan bilangan:  3\n",
            "positif\n"
          ]
        }
      ],
      "source": [
        "try:\n",
        "    bilangan = int(input(\"masukan bilangan:  \"))\n",
        "    print(\"positif\" if bilangan >0 else \"negatif\" if bilangan <0 else \"nol\")\n",
        "except ValueError as a:\n",
        "    print(a)\n"
      ]
    }
  ]
}