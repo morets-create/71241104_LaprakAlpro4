{
  "nbformat": 4,
  "nbformat_minor": 0,
  "metadata": {
    "colab": {
      "provenance": []
    },
    "kernelspec": {
      "name": "python3",
      "display_name": "Python 3"
    },
    "language_info": {
      "name": "python"
    }
  },
  "cells": [
    {
      "cell_type": "code",
      "execution_count": 1,
      "metadata": {
        "colab": {
          "base_uri": "https://localhost:8080/"
        },
        "id": "QqQOUTs_MFUS",
        "outputId": "8f4583a0-442b-4295-d968-93df5053f033"
      },
      "outputs": [
        {
          "output_type": "stream",
          "name": "stdout",
          "text": [
            "Masukkan sisi 1: 2\n",
            "Masukkan sisi 2: 3\n",
            "Masukkan sisi 3: 8\n",
            "Tidak ada yang sama\n"
          ]
        }
      ],
      "source": [
        "# Program untuk menentukan jenis kesamaan sisi segitiga\n",
        "\n",
        "try:\n",
        "    # Meminta input dari pengguna\n",
        "    sisi1 = int(input(\"Masukkan sisi 1: \"))\n",
        "    sisi2 = int(input(\"Masukkan sisi 2: \"))\n",
        "    sisi3 = int(input(\"Masukkan sisi 3: \"))\n",
        "\n",
        "    # Memeriksa apakah semua sisi sama\n",
        "    if sisi1 == sisi2 == sisi3:\n",
        "        print(\"3 sisi sama\")\n",
        "    # Memeriksa apakah ada dua sisi yang sama\n",
        "    elif sisi1 == sisi2 or sisi1 == sisi3 or sisi2 == sisi3:\n",
        "        print(\"2 sisi sama\")\n",
        "    # Jika tidak ada sisi yang sama\n",
        "    else:\n",
        "        print(\"Tidak ada yang sama\")\n",
        "\n",
        "except ValueError:\n",
        "    print(\"Input tidak valid. Harap masukkan angka bulat.\")\n"
      ]
    }
  ]
}