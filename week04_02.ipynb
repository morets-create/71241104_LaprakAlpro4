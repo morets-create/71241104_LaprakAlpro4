{
  "nbformat": 4,
  "nbformat_minor": 0,
  "metadata": {
    "colab": {
      "provenance": []
    },
    "kernelspec": {
      "name": "python3",
      "display_name": "Python 3"
    },
    "language_info": {
      "name": "python"
    }
  },
  "cells": [
    {
      "cell_type": "code",
      "execution_count": null,
      "metadata": {
        "id": "y3ElbwRHHxfc"
      },
      "outputs": [],
      "source": [
        "bilangan = int(input(\"Masukkan suatu bilangan: \"))\n",
        "hasil = \"Positif\" if bilangan > 0 else \"Negatif\" if bilangan < 0 else \"Nol\"\n",
        "print(hasil)\n"
      ]
    }
  ]
}